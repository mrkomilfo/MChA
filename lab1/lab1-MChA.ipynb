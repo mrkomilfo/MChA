{
 "cells": [
  {
   "cell_type": "code",
   "execution_count": 1,
   "metadata": {},
   "outputs": [],
   "source": [
    "import numpy as np\n",
    "import matplotlib.pyplot as plt\n",
    "import scipy.integrate as sp\n",
    "\n",
    "\n",
    "def a(x):\n",
    "    if task == 1:\n",
    "        return 1\n",
    "    elif task == 2:\n",
    "        return np.sin(var)\n",
    "    elif task == 3:\n",
    "        return np.sin(var*x)\n",
    "\n",
    "\n",
    "def b(x):\n",
    "    if task == 1:\n",
    "        return 1\n",
    "    elif task == 2:\n",
    "        return np.cos(var)\n",
    "    elif task == 3:\n",
    "        return np.cos(var*x)\n",
    "\n",
    "\n",
    "def q(x):\n",
    "    return 1+b(x)*x**2\n",
    "\n",
    "\n",
    "def fi(x, i):\n",
    "    if i == 0:\n",
    "        return 0\n",
    "    return (1-x**2)*x**(i-1)\n",
    "\n",
    "\n",
    "def diff2fi(x, i):\n",
    "    if i == 0:\n",
    "        return 0\n",
    "    elif i == 1:\n",
    "        return -2\n",
    "    elif i == 2:\n",
    "        return -6*x\n",
    "    else:\n",
    "        return (i-1)*(i-2)*x**(i-3)-i*(i+1)*x**(i-1)\n",
    "\n",
    "    \n",
    "def y(x, a_list):\n",
    "    sum = 0\n",
    "    for a, i in zip(a_list, range(1, len(a_list)+1)):\n",
    "        sum += a * fi(x, i)\n",
    "    return sum\n",
    "\n",
    "\n",
    "A = -1\n",
    "B = 1\n",
    "task = 1\n",
    "var = 4"
   ]
  },
  {
   "cell_type": "code",
   "execution_count": 2,
   "metadata": {},
   "outputs": [],
   "source": [
    "def c1(x):\n",
    "    return -1 - a(x) * diff2fi(x, 0) - q(x) * fi(x, 0)\n",
    "\n",
    "\n",
    "def k1(x, i):\n",
    "    return a(x) * diff2fi(x, i) + q(x) * fi(x, i)"
   ]
  },
  {
   "cell_type": "markdown",
   "metadata": {},
   "source": [
    "## Метод коллокаций\n",
    "\n",
    "Имеем следующую краевую задачу\n",
    "\n",
    "$ay'' - q(x)y = f(x)$\n",
    "\n",
    "Базисные функции заданы следующей формулой:\n",
    "\n",
    "$\\phi_i(x) = x^i\\cdot(1-x^2), i \\in [0, n]$\n",
    "\n",
    "По базисным функциям построим приближённое решение:\n",
    "\n",
    "$y_n(x)=\\phi_0(x)+a_1\\phi_1(x)+...+a_n\\phi_n(x)$\n",
    "\n",
    "Составим невязку:\n",
    "\n",
    "$\\Psi(x, a_1,..., a_n)=ay_n''(x)+q(x)y_n(x)-f(x)$\n",
    "\n",
    "На отрезке $[a, b]$ выберем точки $x_1,...,x_m \\in [a, b] (m \\ge n)$\n",
    "\n",
    "Считая, что невязка должна быть нулю в точках коллокации, получим следующую систему для определения коэффициентов $a_1,...,a_n.$\n",
    "\n",
    "$ \\begin{cases}\n",
    "      \\Psi(x_1, a_1,..., a_n)=0,\\\\\n",
    "      .....................\\\\\n",
    "      \\Psi(x_m, a_1,..., a_n)=0.\n",
    "  \\end{cases} $\n",
    "\n",
    "Для решения данной системы, составим матрицу из коэффициентов при $a_1,...,a_n.$\n",
    "\n",
    "Коэффициент при $a_j$ в $i$-ой строке выражается следующей формулой:\n",
    "\n",
    "$ k_{ij}=a(x_i)\\phi_j''(x_i) + q(x_i)\\phi_j(x_i)$\n",
    "\n",
    "Свободный член $i$-ой строки выражается следующей формулой:\n",
    "\n",
    "$ c_i=-1 - a(x_i)\\phi_0''(x_i) - q(x_i) \\phi_0(x_i)$\n",
    "\n",
    "В результате решения системы получим коэффициенты $a_1,...,a_n.$\n",
    "\n",
    "Подставим их в приближённое решение и получим ответ."
   ]
  },
  {
   "cell_type": "code",
   "execution_count": 3,
   "metadata": {},
   "outputs": [
    {
     "name": "stdout",
     "output_type": "stream",
     "text": [
      "Wall time: 327 ms\n"
     ]
    },
    {
     "data": {
      "image/png": "[encoded data removed]",
      "text/plain": [
       "<Figure size 432x288 with 1 Axes>"
      ]
     },
     "metadata": {
      "needs_background": "light"
     },
     "output_type": "display_data"
    }
   ],
   "source": [
    "%%time\n",
    "n = 100\n",
    "for task in [1, 2]:\n",
    "    x_list = np.linspace(A, B, n + 2)\n",
    "\n",
    "    matrix = []\n",
    "    vector = []\n",
    "\n",
    "    for x in x_list[1:-1:]:\n",
    "        row = []\n",
    "        if n % 2 == 1:\n",
    "            for i in range(1, n):\n",
    "                row.append(k1(x, i))\n",
    "        else:\n",
    "            for i in range(1, n+1):\n",
    "                row.append(k1(x, i))\n",
    "        matrix.append(row)\n",
    "        vector.append(c1(x))\n",
    "\n",
    "    matrix = np.matrix(matrix, dtype='float')\n",
    "    vector = np.array(vector, dtype='float')\n",
    "\n",
    "    if n % 2 == 1:\n",
    "        a_list = np.linalg.solve(matrix[:-1:], vector[:-1:])\n",
    "    else:\n",
    "        a_list = np.linalg.solve(matrix, vector)\n",
    "\n",
    "    result1 = []\n",
    "    for x in x_list[1:-1:]:\n",
    "        result1.append(y(x, a_list))\n",
    "    result1.insert(0, 0)\n",
    "    result1.append(0)\n",
    "    \n",
    "    plt.plot(x_list, result1, label = \"n = %d, task = %d\" % (n, task))\n",
    "plt.title(\"Метод коллокаций\")\n",
    "plt.legend()\n",
    "plt.grid()"
   ]
  },
  {
   "cell_type": "code",
   "execution_count": 4,
   "metadata": {},
   "outputs": [],
   "source": [
    "def c2(x_list, i):\n",
    "    sum = 0\n",
    "    for x in x_list:\n",
    "        sum += (a(x) * diff2fi(x, i) + q(x) * fi(x, i)) * (a(x) * diff2fi(x, 0) + q(x) * fi(x, 0) + 1)\n",
    "    return -2*sum\n",
    "\n",
    "\n",
    "def k2(x_list, i, j):\n",
    "    sum = 0\n",
    "    for x in x_list:\n",
    "        sum += (a(x) * diff2fi(x, j) + q(x) * fi(x, j)) * (a(x) * diff2fi(x, i) + q(x) * fi(x, i))\n",
    "    return 2*sum"
   ]
  },
  {
   "cell_type": "markdown",
   "metadata": {},
   "source": [
    "## Метод наименьших квадратов\n",
    "\n",
    "Имеем следующую краевую задачу\n",
    "\n",
    "$ay'' - q(x)y = f(x)$\n",
    "\n",
    "Базисные функции заданы следующей формулой:\n",
    "\n",
    "$\\phi_i(x) = x^i\\cdot(1-x^2), i \\in [0, n]$\n",
    "\n",
    "По базисным функциям построим приближённое решение:\n",
    "\n",
    "$y_n(x)=\\phi_0(x)+a_1\\phi_1(x)+...+a_n\\phi_n(x)$\n",
    "\n",
    "Составим невязку:\n",
    "\n",
    "$\\Psi(x, a_1,..., a_n)=ay_n''(x)+q(x)y_n(x)-f(x)$\n",
    "\n",
    "Выберем $N \\gt n$ точек и решим задачу\n",
    "\n",
    "$S=\\sum\\limits_{k=1}^N\\Psi^2(x_k, a_1,...,a_n) \\rightarrow min.$\n",
    "\n",
    "Для её решения строится система\n",
    "\n",
    "$ \\begin{cases}\n",
    "      \\frac{\\partial S}{\\partial a_1}=0,\\\\\n",
    "      .........\\\\\n",
    "      \\frac{\\partial S}{\\partial a_n}=0.\n",
    "  \\end{cases} $\n",
    "  \n",
    "Для решения данной системы, составим матрицу из коэффициентов при $a_1,...,a_n.$\n",
    "\n",
    "Коэффициент при $a_j$ в $i$-ой строке выражается следующей формулой:\n",
    "\n",
    "$ k_{ij} = 2\\cdot\\sum\\limits_{k=1}^N (a(x)\\phi_i''(x_k) + q(x)\\phi_i(x_k)) \\cdot(a(x)\\phi_j''(x_k) + q(x_k)\\phi_j(x_k))$\n",
    "\n",
    "Свободный член $i$-ой строки выражается следующей формулой:\n",
    "\n",
    "$ c_i= -2\\cdot\\sum\\limits_{k=1}^N (a(x)\\phi_i''(x_k) + q(x) \\phi_i(x_k))\\cdot(a(x)\\phi_0''(x_k) + q(x)\\phi_0(x_k) + 1)$\n",
    "\n",
    "В результате решения системы получим коэффициенты $a_1,...,a_n.$\n",
    "\n",
    "Подставим их в приближённое решение и получим ответ. "
   ]
  },
  {
   "cell_type": "code",
   "execution_count": 5,
   "metadata": {},
   "outputs": [
    {
     "name": "stdout",
     "output_type": "stream",
     "text": [
      "Wall time: 18.7 s\n"
     ]
    },
    {
     "data": {
      "image/png": "[encoded data removed]",
      "text/plain": [
       "<Figure size 432x288 with 1 Axes>"
      ]
     },
     "metadata": {
      "needs_background": "light"
     },
     "output_type": "display_data"
    }
   ],
   "source": [
    "%%time\n",
    "n = 50\n",
    "N = 5*n\n",
    "for task in [1, 2]:\n",
    "    x_list_2 = np.linspace(A, B, N + 2)[1:-1:]\n",
    "\n",
    "    matrix = []\n",
    "    vector = []\n",
    "\n",
    "    for j in range(1, n + 1):\n",
    "        row = []\n",
    "        for i in range(1, n + 1):\n",
    "            row.append(k2(x_list_2, i, j))\n",
    "        vector.append(c2(x_list_2, j))\n",
    "        matrix.append(row)\n",
    "\n",
    "    matrix = np.matrix(matrix, dtype='float')\n",
    "    vector = np.array(vector, dtype='float')\n",
    "\n",
    "    a_list = np.linalg.solve(matrix, vector)\n",
    "\n",
    "    result2 = []\n",
    "    for x in x_list[1:-1:]:\n",
    "        result2.append(y(x, a_list))\n",
    "\n",
    "    result2.insert(0, 0)\n",
    "    result2.append(0)\n",
    "\n",
    "    plt.plot(x_list, result2, label = \"n = %d, N = %d, task = %d\" % (n, N, task))\n",
    "plt.title(\"Метод наименьших квадратов\")\n",
    "plt.legend()\n",
    "plt.grid()"
   ]
  },
  {
   "cell_type": "code",
   "execution_count": 10,
   "metadata": {},
   "outputs": [],
   "source": [
    "def integ(func, i, j, a, b):\n",
    "    def f(x):\n",
    "        return func(x, i, j)\n",
    "    return sp.quad(f, a, b)[0]\n",
    "\n",
    "\n",
    "def a_fi_diff2fi(x, i, j):\n",
    "    return a(x) * fi(x, i) * diff2fi(x, j)\n",
    "\n",
    "\n",
    "def q_fi_fi(x, i, j):\n",
    "    return q(x) * fi(x, i) * fi(x, j)\n",
    "\n",
    "\n",
    "def fi_(x, i, _):\n",
    "    if i == 0:\n",
    "        return 0\n",
    "    return (1-x**2)*x**(i-1)"
   ]
  },
  {
   "cell_type": "markdown",
   "metadata": {},
   "source": [
    "## Метод Галёркина\n",
    "\n",
    "Имеем следующую краевую задачу\n",
    "\n",
    "$ay'' - q(x)y = f(x)$\n",
    "\n",
    "Базисные функции заданы следующей формулой:\n",
    "\n",
    "$\\phi_i(x) = x^i\\cdot(1-x^2), i \\in [0, n]$\n",
    "\n",
    "По базисным функциям построим приближённое решение:\n",
    "\n",
    "$y_n(x)=\\phi_0(x)+a_1\\phi_1(x)+...+a_n\\phi_n(x)$\n",
    "\n",
    "Составим невязку:\n",
    "\n",
    "$\\Psi(x, a_1,..., a_n)=ay_n''(x)+q(x)y_n(x)-f(x)$\n",
    "\n",
    "Составим систему:\n",
    "\n",
    "$ \\begin{cases}\n",
    "      \\int\\limits_a^b \\Psi(x, a_1,...,a_n)\\phi_1(x)dx=0,\\\\\n",
    "      .........\\\\\n",
    "      \\int\\limits_a^b \\Psi(x, a_1,...,a_n)\\phi_n(x)dx=0.\n",
    "  \\end{cases} $\n",
    "  \n",
    "Для решения данной системы, составим матрицу из коэффициентов при $a_1,...,a_n.$\n",
    "\n",
    "Коэффициент при $a_j$ в $i$-ой строке выражается следующей формулой:\n",
    "\n",
    "$ k_{ij} = \\int\\limits_a^b a(x)\\phi_i(x)\\phi_j''(x) dx + \\int\\limits_a^b q(x)\\phi_i(x)\\phi_j(x) dx$\n",
    "\n",
    "Свободный член $i$-ой строки выражается следующей формулой:\n",
    "\n",
    "$ c_i= - (\\int\\limits_a^b a(x)\\phi_i(x)\\phi_0''(x) dx + \\int\\limits_a^b q(x)\\phi_i(x)\\phi_0(x) dx + \\int\\limits_a^b \\phi_i(x) dx)$\n",
    "\n",
    "В результате решения системы получим коэффициенты $a_1,...,a_n.$\n",
    "\n",
    "Подставим их в приближённое решение и получим ответ. "
   ]
  },
  {
   "cell_type": "code",
   "execution_count": 9,
   "metadata": {},
   "outputs": [
    {
     "name": "stdout",
     "output_type": "stream",
     "text": [
      "Wall time: 19.7 s\n"
     ]
    },
    {
     "data": {
      "image/png": "[encoded data removed]",
      "text/plain": [
       "<Figure size 432x288 with 1 Axes>"
      ]
     },
     "metadata": {
      "needs_background": "light"
     },
     "output_type": "display_data"
    }
   ],
   "source": [
    "%%time\n",
    "n = 100\n",
    "for task in [1, 2]:\n",
    "    matrix = []\n",
    "    vector = []\n",
    "\n",
    "    for i in range(1, n + 1):\n",
    "        row = []\n",
    "        for j in range(1, n + 1):\n",
    "            row.append(integ(a_fi_diff2fi, i, j, A, B) + integ(q_fi_fi, i, j, A, B))\n",
    "        vector.append(-(integ(a_fi_diff2fi, i, 0, A, B) + integ(q_fi_fi, i, 0, A, B) + integ(fi_, i, 0, A, B)))\n",
    "        matrix.append(row)\n",
    "\n",
    "    matrix = np.matrix(matrix, dtype='float')\n",
    "    vector = np.array(vector, dtype='float')\n",
    "\n",
    "    a_list = np.linalg.solve(matrix, vector)\n",
    "\n",
    "    result3 = []\n",
    "    for x in x_list[1:-1:]:\n",
    "        result3.append(y(x, a_list))\n",
    "\n",
    "    result3.insert(0, 0)\n",
    "    result3.append(0)\n",
    "\n",
    "    plt.plot(x_list, result3, label = \"n = %d, task = %d\" % (n, task))\n",
    "plt.title(\"Метод Галёркина\")\n",
    "plt.legend()\n",
    "plt.grid()"
   ]
  },
  {
   "cell_type": "code",
   "execution_count": null,
   "metadata": {},
   "outputs": [],
   "source": []
  }
 ],
 "metadata": {
  "kernelspec": {
   "display_name": "Python 3",
   "language": "python",
   "name": "python3"
  },
  "language_info": {
   "codemirror_mode": {
    "name": "ipython",
    "version": 3
   },
   "file_extension": ".py",
   "mimetype": "text/x-python",
   "name": "python",
   "nbconvert_exporter": "python",
   "pygments_lexer": "ipython3",
   "version": "3.7.3"
  }
 },
 "nbformat": 4,
 "nbformat_minor": 2
}
